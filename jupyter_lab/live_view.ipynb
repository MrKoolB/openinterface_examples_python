{
 "cells": [
  {
   "cell_type": "markdown",
   "metadata": {},
   "source": [
    "# Open Interface and Rotavapor\n",
    "Using Open Interface on a Rotavapor to get and display measured sensor data\n",
    "\n",
    "## Connect to the Rotavapor"
   ]
  },
  {
   "cell_type": "code",
   "execution_count": null,
   "metadata": {},
   "outputs": [],
   "source": [
    "import requests\n",
    "import urllib3\n",
    "from os import path\n",
    "\n",
    "address = \"10.93.152.210\"\n",
    "user = \"rw\"\n",
    "password = \"vCT3SuJq\"\n",
    "\n",
    "auth = (user, password)\n",
    "base_url = f\"https://{address}/api/v1\"\n",
    "info_endpoint = base_url + \"/info\"\n",
    "process_endpoint = base_url + \"/process\"\n",
    "rootcert = \"root_cert.crt\"\n",
    "\n",
    "# configure http client session\n",
    "session = requests.Session()\n",
    "session.auth = auth\n",
    "if path.isfile(rootcert):\n",
    "    # if there is a root certificate file we'll use that one\n",
    "    session.verify = rootcert\n",
    "else:\n",
    "    # ... if not, we'll ignore certificate errors\n",
    "    print(\"Root certificate missing. Disabling certificate checks...\")\n",
    "    session.verify = False\n",
    "    # this would cause warnings on the console which we disable here\n",
    "    urllib3.disable_warnings()\n",
    "\n",
    "# verify that this is a Rotavapor\n",
    "info_resp = session.get(info_endpoint)\n",
    "if info_resp.status_code != 200:\n",
    "    raise Exception(\"Unexpected status code when getting device info\", info_resp.status_code)\n",
    "info_msg = info_resp.json()\n",
    "system_name = info_msg[\"systemName\"]\n",
    "print(f\"Connected to {system_name}\")\n",
    "if info_msg[\"systemClass\"] != \"Rotavapor\":\n",
    "    raise Exception(f\"This is not a Rotavapor: {address}\")"
   ]
  },
  {
   "cell_type": "markdown",
   "metadata": {},
   "source": [
    "## Start measuring and displaying the temperature of the bath\n",
    "\n",
    "See https://matplotlib.org/2.1.1/api/_as_gen/matplotlib.pyplot.plot.html for colors and marker styles, etc."
   ]
  },
  {
   "cell_type": "code",
   "execution_count": null,
   "metadata": {},
   "outputs": [],
   "source": [
    "%matplotlib widget\n",
    "import numpy as np\n",
    "import matplotlib.pyplot as plt\n",
    "import matplotlib.dates as mdates\n",
    "from matplotlib.animation import FuncAnimation\n",
    "from datetime import datetime\n",
    "\n",
    "fig, ax = plt.subplots()\n",
    "ln, = plt.plot([], [], 'b.')\n",
    "xdata, ydata = [], []\n",
    "\n",
    "# min and max values for the x axis\n",
    "time_min = np.datetime64(datetime.now(), 'm')\n",
    "time_max = time_min + np.timedelta64(1, 'm')\n",
    "\n",
    "def read_temperature():\n",
    "    # read temperature\n",
    "    proc_resp = session.get(process_endpoint)\n",
    "    \n",
    "    if proc_resp.status_code != 200:\n",
    "        raise Exception(\"Unexpected status code when polling process data\", proc_resp.status_code)\n",
    "    \n",
    "    proc_msg = proc_resp.json()\n",
    "    \n",
    "    return proc_msg[\"heating\"][\"act\"]\n",
    "\n",
    "def init():\n",
    "    global time_min, time_max\n",
    "    \n",
    "    fig.suptitle(\"Measurement started: \" + datetime.now().strftime('%d.%m.%Y %H:%M:%S'), fontsize=10)\n",
    "\n",
    "    # xaxis: minutes are major ticks, seconds are minor ticks\n",
    "    ax.xaxis.set_major_locator(mdates.MinuteLocator())\n",
    "    ax.xaxis.set_major_formatter(mdates.DateFormatter('%M'))\n",
    "    ax.xaxis.set_minor_locator(mdates.SecondLocator())\n",
    "    \n",
    "    # xaxis: set limit to current minute to next minute \n",
    "    ax.set_xlim(time_min, time_max)\n",
    "    \n",
    "    # xaxis: format is minutes:seconds\n",
    "    ax.format_xdata = mdates.DateFormatter('%M:%S')\n",
    "    \n",
    "    # yaxis: set limit to 0 .. 100°C\n",
    "    ax.set_ylim(0, 100)\n",
    "\n",
    "    return ln,\n",
    "\n",
    "def update(frame):\n",
    "    global time_min, time_max\n",
    "    \n",
    "    # update xlim everytime the minute changes on the pc clock\n",
    "    if np.datetime64(datetime.now(), 'm') >= time_max:\n",
    "        time_max = np.datetime64(datetime.now(), 'm') + np.timedelta64(1, 'm')\n",
    "        ax.set_xlim(time_min, time_max)\n",
    "    \n",
    "    # update the data with the new clock time and the measured temperature from the roti\n",
    "    xdata.append(datetime.now())\n",
    "    ydata.append(read_temperature())\n",
    "    ln.set_data(xdata, ydata)\n",
    "    \n",
    "    # display the current roti bath temperature in the title of the graph\n",
    "    ax.set_title(\"{0}°C\".format(ydata[-1]))\n",
    "    \n",
    "    # display the current date and time as the label of the x axis\n",
    "    plt.xlabel(datetime.now().strftime('%d.%m.%Y %H:%M:%S'))\n",
    "    \n",
    "    return ln,\n",
    "    \n",
    "ani = FuncAnimation(fig, update, init_func=init, interval=1000)\n",
    "plt.show()"
   ]
  },
  {
   "cell_type": "code",
   "execution_count": null,
   "metadata": {},
   "outputs": [],
   "source": [
    "# Pause measurement\n",
    "ani.event_source.stop()"
   ]
  },
  {
   "cell_type": "code",
   "execution_count": null,
   "metadata": {},
   "outputs": [],
   "source": [
    "# Resume measurement\n",
    "ani.event_source.start()"
   ]
  },
  {
   "cell_type": "code",
   "execution_count": null,
   "metadata": {},
   "outputs": [],
   "source": []
  }
 ],
 "metadata": {
  "kernelspec": {
   "display_name": "Python 3",
   "language": "python",
   "name": "python3"
  },
  "language_info": {
   "codemirror_mode": {
    "name": "ipython",
    "version": 3
   },
   "file_extension": ".py",
   "mimetype": "text/x-python",
   "name": "python",
   "nbconvert_exporter": "python",
   "pygments_lexer": "ipython3",
   "version": "3.8.3"
  }
 },
 "nbformat": 4,
 "nbformat_minor": 4
}
